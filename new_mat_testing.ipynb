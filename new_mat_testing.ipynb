{
 "cells": [
  {
   "cell_type": "code",
   "execution_count": 1,
   "metadata": {},
   "outputs": [
    {
     "name": "stdout",
     "output_type": "stream",
     "text": [
      "dict_keys(['skeleton', 'image', 'gender', 'trans', 'shape', 'pose', 'mesh_depth', 'mesh_contact'])\n"
     ]
    }
   ],
   "source": [
    "\n",
    "import load_dataset_mat_new\n",
    "import torch\n",
    "\n",
    "dataset = load_dataset_mat_new.SkeletonDatasetMAT(r'D:\\workspace\\python_ws\\bodies-at-rest-master\\dataset\\train')\n",
    "\n",
    "# for i in range(dataset.__len__()):\n",
    "#     sample = dataset[i]\n",
    "\n",
    "#     print(i, sample['skeleton'], sample['image'])\n",
    "#     if i >= 4:\n",
    "#         break\n",
    "\n",
    "batch_size = 8\n",
    "data_loader = torch.utils.data.DataLoader(dataset, batch_size=None, shuffle=False)\n",
    "\n",
    "# 遍历 data_loader 来获取批次的数据\n",
    "for batch in data_loader:\n",
    "    print(batch.keys())\n",
    "    break"
   ]
  },
  {
   "cell_type": "code",
   "execution_count": 3,
   "metadata": {},
   "outputs": [
    {
     "data": {
      "text/plain": [
       "tensor([[ 0.7654,  1.4137,  0.0811,  0.8326,  1.3340,  0.0685,  0.7089,  1.3276,\n",
       "          0.0694,  0.7572,  1.5104,  0.0672,  0.8022,  1.1012,  0.2400,  0.5376,\n",
       "          1.1215,  0.1934,  0.7556,  1.6416,  0.0744,  0.6855,  0.9287,  0.0273,\n",
       "          0.5209,  0.8798,  0.0243,  0.7565,  1.6881,  0.1085,  0.6784,  0.8264,\n",
       "          0.0689,  0.4482,  0.8180,  0.0791,  0.7466,  1.8687,  0.0737,  0.8240,\n",
       "          1.7991,  0.0826,  0.6781,  1.7892,  0.0773,  0.7436,  1.9208,  0.1230,\n",
       "          0.9118,  1.8044,  0.0712,  0.5875,  1.7752,  0.0638,  1.0424,  1.6488,\n",
       "         -0.0021,  0.5152,  1.5852,  0.0347,  1.1820,  1.5004, -0.0114,  0.4297,\n",
       "          1.3989,  0.0510,  1.2254,  1.4381, -0.0278,  0.4072,  1.3272,  0.0480]],\n",
       "       dtype=torch.float64)"
      ]
     },
     "execution_count": 3,
     "metadata": {},
     "output_type": "execute_result"
    }
   ],
   "source": [
    "batch['skeleton']"
   ]
  },
  {
   "cell_type": "code",
   "execution_count": 3,
   "metadata": {},
   "outputs": [
    {
     "name": "stdout",
     "output_type": "stream",
     "text": [
      "Key: skeleton, Shape: torch.Size([24, 3]), Dtype: torch.float64\n",
      "Key: image, Shape: torch.Size([64, 27]), Dtype: torch.int8\n",
      "Key: gender, value: 0\n",
      "Key: trans, Shape: torch.Size([3]), Dtype: torch.float64\n",
      "Key: shape, Shape: torch.Size([10]), Dtype: torch.float64\n",
      "Key: pose, Shape: torch.Size([72]), Dtype: torch.float64\n",
      "Key: mesh_depth, Shape: torch.Size([64, 27]), Dtype: torch.int32\n",
      "Key: mesh_contact, Shape: torch.Size([64, 27]), Dtype: torch.uint8\n"
     ]
    }
   ],
   "source": [
    "for key, value in batch.items():\n",
    "    try:\n",
    "        shape = value.shape\n",
    "        dtype = value.dtype\n",
    "        print(f\"Key: {key}, Shape: {shape}, Dtype: {dtype}\")\n",
    "    except:\n",
    "        print(f\"Key: {key}, value: {value}\")"
   ]
  },
  {
   "cell_type": "code",
   "execution_count": null,
   "metadata": {},
   "outputs": [],
   "source": []
  }
 ],
 "metadata": {
  "kernelspec": {
   "display_name": "pt1.8",
   "language": "python",
   "name": "python3"
  },
  "language_info": {
   "codemirror_mode": {
    "name": "ipython",
    "version": 3
   },
   "file_extension": ".py",
   "mimetype": "text/x-python",
   "name": "python",
   "nbconvert_exporter": "python",
   "pygments_lexer": "ipython3",
   "version": "3.8.17"
  }
 },
 "nbformat": 4,
 "nbformat_minor": 2
}
