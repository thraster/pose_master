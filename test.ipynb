{
 "cells": [
  {
   "cell_type": "code",
   "execution_count": 1,
   "metadata": {},
   "outputs": [],
   "source": [
    "import vgg\n",
    "import read\n",
    "import cv2"
   ]
  },
  {
   "cell_type": "code",
   "execution_count": 6,
   "metadata": {},
   "outputs": [
    {
     "name": "stdout",
     "output_type": "stream",
     "text": [
      "torch.Size([224, 224])\n"
     ]
    },
    {
     "data": {
      "text/plain": [
       "tensor([[ 0.0133, -0.0073, -0.0074],\n",
       "        [ 0.0025, -0.0030, -0.0092],\n",
       "        [ 0.0215,  0.0076,  0.0187],\n",
       "        [ 0.0072, -0.0054, -0.0116],\n",
       "        [ 0.0023,  0.0264,  0.0083],\n",
       "        [ 0.0201, -0.0067,  0.0068],\n",
       "        [-0.0055,  0.0183,  0.0099],\n",
       "        [ 0.0120,  0.0158,  0.0047],\n",
       "        [-0.0036,  0.0070,  0.0028],\n",
       "        [ 0.0037, -0.0143,  0.0128],\n",
       "        [ 0.0027,  0.0119, -0.0093],\n",
       "        [ 0.0105,  0.0169, -0.0108],\n",
       "        [-0.0230,  0.0204, -0.0010],\n",
       "        [ 0.0029, -0.0163,  0.0142],\n",
       "        [-0.0023, -0.0213, -0.0065],\n",
       "        [ 0.0069,  0.0114, -0.0005],\n",
       "        [ 0.0048, -0.0018,  0.0002],\n",
       "        [-0.0035, -0.0187, -0.0098],\n",
       "        [ 0.0117,  0.0129, -0.0165],\n",
       "        [ 0.0012,  0.0140,  0.0151],\n",
       "        [-0.0156, -0.0180, -0.0061],\n",
       "        [ 0.0124, -0.0079, -0.0203],\n",
       "        [ 0.0140, -0.0031, -0.0040],\n",
       "        [-0.0021,  0.0049, -0.0160]], grad_fn=<ViewBackward>)"
      ]
     },
     "execution_count": 6,
     "metadata": {},
     "output_type": "execute_result"
    }
   ],
   "source": [
    "net = vgg.VGG16()\n",
    "img = read.load_png(r'dataset\\test\\test_roll0_f_lay_set14_1500\\0.png')\n",
    "# img\n",
    "img = img.unsqueeze(0) \n",
    "img = img.unsqueeze(0) \n",
    "y = net(img)\n"
   ]
  },
  {
   "cell_type": "code",
   "execution_count": 11,
   "metadata": {},
   "outputs": [],
   "source": [
    "y = y.reshape(24,3)"
   ]
  },
  {
   "cell_type": "code",
   "execution_count": null,
   "metadata": {},
   "outputs": [],
   "source": []
  }
 ],
 "metadata": {
  "kernelspec": {
   "display_name": "pt1.8",
   "language": "python",
   "name": "python3"
  },
  "language_info": {
   "codemirror_mode": {
    "name": "ipython",
    "version": 3
   },
   "file_extension": ".py",
   "mimetype": "text/x-python",
   "name": "python",
   "nbconvert_exporter": "python",
   "pygments_lexer": "ipython3",
   "version": "3.8.17"
  },
  "orig_nbformat": 4
 },
 "nbformat": 4,
 "nbformat_minor": 2
}
