{
 "cells": [
  {
   "cell_type": "code",
   "execution_count": 7,
   "metadata": {},
   "outputs": [
    {
     "name": "stdout",
     "output_type": "stream",
     "text": [
      "tensor([[0],\n",
      "        [1],\n",
      "        [0],\n",
      "        [1],\n",
      "        [1],\n",
      "        [0],\n",
      "        [0],\n",
      "        [1]])\n",
      "tensor([[0.0814, 0.7664, 0.4777],\n",
      "        [0.7717, 0.1156, 0.3411],\n",
      "        [0.0318, 0.1302, 0.7603],\n",
      "        [0.0435, 0.2263, 0.5243],\n",
      "        [0.2197, 0.6377, 0.0478],\n",
      "        [0.7172, 0.7981, 0.2025],\n",
      "        [0.0900, 0.4057, 0.2957],\n",
      "        [0.2947, 0.5221, 0.4062]])\n",
      "tensor([[ True],\n",
      "        [False],\n",
      "        [ True],\n",
      "        [False],\n",
      "        [False],\n",
      "        [ True],\n",
      "        [ True],\n",
      "        [False]])\n",
      "tensor([[False],\n",
      "        [ True],\n",
      "        [False],\n",
      "        [ True],\n",
      "        [ True],\n",
      "        [False],\n",
      "        [False],\n",
      "        [ True]])\n",
      "Female Data (x_f):\n",
      "tensor([[0.0814, 0.7664, 0.4777],\n",
      "        [0.0318, 0.1302, 0.7603],\n",
      "        [0.7172, 0.7981, 0.2025],\n",
      "        [0.0900, 0.4057, 0.2957]])\n",
      "Male Data (x_m):\n",
      "tensor([[0.7717, 0.1156, 0.3411],\n",
      "        [0.0435, 0.2263, 0.5243],\n",
      "        [0.2197, 0.6377, 0.0478],\n",
      "        [0.2947, 0.5221, 0.4062]])\n"
     ]
    }
   ],
   "source": [
    "import torch\n",
    "\n",
    "# 假设你有gender和x张量\n",
    "gender = torch.randint(0,2,(8,1))  # 0表示女性，1表示男性\n",
    "x = torch.rand(8, 3)  # 3个样本，每个样本有85个特征\n",
    "print(gender)\n",
    "print(x)\n",
    "# 创建男性和女性的掩码\n",
    "mask_female = gender == 0  # 创建女性的掩码\n",
    "mask_male = gender == 1  # 创建男性的掩码\n",
    "print(mask_female)\n",
    "print(mask_male)\n",
    "# 使用掩码分离x中的数据\n",
    "x_f = x[mask_female.squeeze()]\n",
    "x_m = x[mask_male.squeeze()]\n",
    "\n",
    "# 打印分离后的张量\n",
    "print(\"Female Data (x_f):\")\n",
    "print(x_f)\n",
    "print(\"Male Data (x_m):\")\n",
    "print(x_m)\n"
   ]
  },
  {
   "cell_type": "code",
   "execution_count": 8,
   "metadata": {},
   "outputs": [
    {
     "name": "stdout",
     "output_type": "stream",
     "text": [
      "tensor([[1],\n",
      "        [1],\n",
      "        [0],\n",
      "        [1],\n",
      "        [0],\n",
      "        [0],\n",
      "        [1],\n",
      "        [1]])\n",
      "tensor([[0.0344, 0.9682, 0.9495],\n",
      "        [0.6232, 0.3157, 0.1482],\n",
      "        [0.2002, 0.1071, 0.9877],\n",
      "        [0.1200, 0.0824, 0.8861],\n",
      "        [0.1047, 0.2425, 0.6717],\n",
      "        [0.5006, 0.6922, 0.0376],\n",
      "        [0.3531, 0.3554, 0.2925],\n",
      "        [0.4474, 0.7488, 0.7145]])\n",
      "Processed Data (x_new):\n",
      "tensor([[0.0344, 0.9682, 0.9495],\n",
      "        [0.6232, 0.3157, 0.1482],\n",
      "        [0.2002, 0.1071, 0.9877],\n",
      "        [0.1200, 0.0824, 0.8861],\n",
      "        [0.1047, 0.2425, 0.6717],\n",
      "        [0.5006, 0.6922, 0.0376],\n",
      "        [0.3531, 0.3554, 0.2925],\n",
      "        [0.4474, 0.7488, 0.7145]])\n"
     ]
    }
   ],
   "source": [
    "import torch\n",
    "\n",
    "# 假设你有gender和x张量\n",
    "batch_size = 8  # 批量大小\n",
    "x_dim = 3  # x张量的维度\n",
    "gender = torch.randint(2, (batch_size, 1))  # 随机生成0和1表示性别\n",
    "x = torch.rand(batch_size, x_dim)  # 随机生成x张量\n",
    "print(gender)\n",
    "print(x)\n",
    "# 将gender扩展到与x的维度相匹配\n",
    "gender_expanded = gender.expand(-1, x_dim)\n",
    "\n",
    "# 根据gender_expanded将x分成x_f和x_m\n",
    "x_f = x * (gender_expanded == 0).float()\n",
    "x_m = x * (gender_expanded == 1).float()\n",
    "\n",
    "# 处理x_f和x_m（这里示意性地进行了加法和减法操作）\n",
    "x_f_processed = x_f + 1  # 做一些处理，这里示意性地加1\n",
    "x_m_processed = x_m - 1  # 做一些处理，这里示意性地减1\n",
    "\n",
    "# 创建一个新的x张量，将x_f_processed和x_m_processed相加\n",
    "x_new = x_f_processed + x_m_processed\n",
    "\n",
    "# 打印处理后的x张量\n",
    "print(\"Processed Data (x_new):\")\n",
    "print(x_new)\n"
   ]
  },
  {
   "cell_type": "code",
   "execution_count": 28,
   "metadata": {},
   "outputs": [
    {
     "name": "stdout",
     "output_type": "stream",
     "text": [
      "tensor([[0],\n",
      "        [1],\n",
      "        [0],\n",
      "        [1],\n",
      "        [1],\n",
      "        [0],\n",
      "        [0],\n",
      "        [1]]) tensor([[0.1271, 0.6531, 0.5591],\n",
      "        [0.8654, 0.5473, 0.9488],\n",
      "        [0.3214, 0.9176, 0.1691],\n",
      "        [0.4032, 0.6906, 0.0270],\n",
      "        [0.7516, 0.9127, 0.2870],\n",
      "        [0.3203, 0.7415, 0.2878],\n",
      "        [0.5738, 0.1233, 0.2634],\n",
      "        [0.8032, 0.1916, 0.5088]])\n",
      "torch.Size([4, 3, 1]) torch.Size([4, 3, 1])\n",
      "Processed Data (processed_x):\n",
      "tensor([[[0.1271],\n",
      "         [0.6531],\n",
      "         [0.5591]],\n",
      "\n",
      "        [[0.8654],\n",
      "         [0.5473],\n",
      "         [0.9488]],\n",
      "\n",
      "        [[0.3214],\n",
      "         [0.9176],\n",
      "         [0.1691]],\n",
      "\n",
      "        [[0.4032],\n",
      "         [0.6906],\n",
      "         [0.0270]],\n",
      "\n",
      "        [[0.7516],\n",
      "         [0.9127],\n",
      "         [0.2870]],\n",
      "\n",
      "        [[0.3203],\n",
      "         [0.7415],\n",
      "         [0.2878]],\n",
      "\n",
      "        [[0.5738],\n",
      "         [0.1233],\n",
      "         [0.2634]],\n",
      "\n",
      "        [[0.8032],\n",
      "         [0.1916],\n",
      "         [0.5088]]])\n"
     ]
    }
   ],
   "source": [
    "import torch\n",
    "\n",
    "# 假设你有gender和x张量\n",
    "gender = torch.tensor([[0], [1], [0], [1], [1], [0], [0], [1]])  # 0表示女性，1表示男性\n",
    "x = torch.rand(8, 3)  # 输入数据 x，形状为 (batch_size, 85)\n",
    "print(gender,x)\n",
    "\n",
    "# 根据gender的取值将x分成x_f和x_m\n",
    "x_f = x[gender.squeeze() == 0]  # 选择gender为0的行作为女性数据\n",
    "x_m = x[gender.squeeze() == 1]  # 选择gender为1的行作为男性数据\n",
    "\n",
    "# 分别对x_f和x_m进行处理\n",
    "x_f = x_f.unsqueeze(-1)\n",
    "x_m = x_m.unsqueeze(-1)\n",
    "\n",
    "print(x_f.shape,x_m.shape)\n",
    "# 重新排列x_f和x_m以匹配原始顺序\n",
    "processed_x = torch.empty(x.unsqueeze(-1).size())  # 创建与x相同大小的空张量\n",
    "processed_x[gender.squeeze() == 0] = x_f  # 将x_f数据放回原始位置\n",
    "processed_x[gender.squeeze() == 1] = x_m  # 将x_m数据放回原始位置\n",
    "\n",
    "mesh_f = torch.randn(4, 6000, 3)\n",
    "joints_f = torch.randn(4, 72)\n",
    "\n",
    "mesh_m = torch.randn(4, 6000, 3)\n",
    "joints_m = torch.randn(4, 72)\n",
    "\n",
    "processed_mesh = torch.empty((8, 6000, 3))  # 创建与x相同大小的空张量\n",
    "processed_mesh[gender.squeeze() == 0] = mesh_f  # 将x_f数据放回原始位置\n",
    "processed_mesh[gender.squeeze() == 1] = mesh_m  # 将x_m数据放回原始位置\n",
    "\n",
    "processed_joints = torch.empty((8, 72))  # 创建与x相同大小的空张量\n",
    "processed_joints[gender.squeeze() == 0] = joints_f  # 将x_f数据放回原始位置\n",
    "processed_joints[gender.squeeze() == 1] = joints_m  # 将x_m数据放回原始位置\n",
    "\n",
    "\n",
    "\n",
    "# 打印处理后的数据\n",
    "print(\"Processed Data (processed_x):\")\n",
    "print(processed_x)\n"
   ]
  },
  {
   "cell_type": "code",
   "execution_count": 38,
   "metadata": {},
   "outputs": [
    {
     "data": {
      "text/plain": [
       "(tensor([[ 2.0568,  1.1959, -0.2532],\n",
       "         [ 0.2371,  0.5673, -1.3237],\n",
       "         [ 0.8781,  0.8575, -0.1877],\n",
       "         ...,\n",
       "         [ 1.0263,  2.4927, -0.3614],\n",
       "         [-0.0810, -1.1632, -0.7085],\n",
       "         [-0.4976, -1.5743, -1.8232]]),\n",
       " tensor([[ 2.0568,  1.1959, -0.2532],\n",
       "         [ 0.2371,  0.5673, -1.3237],\n",
       "         [ 0.8781,  0.8575, -0.1877],\n",
       "         ...,\n",
       "         [ 1.0263,  2.4927, -0.3614],\n",
       "         [-0.0810, -1.1632, -0.7085],\n",
       "         [-0.4976, -1.5743, -1.8232]]))"
      ]
     },
     "execution_count": 38,
     "metadata": {},
     "output_type": "execute_result"
    }
   ],
   "source": [
    "mesh_f[2],processed_mesh[5]"
   ]
  },
  {
   "cell_type": "code",
   "execution_count": 40,
   "metadata": {},
   "outputs": [
    {
     "data": {
      "text/plain": [
       "(tensor([[-0.1984, -0.1537, -0.1504],\n",
       "         [-0.3996, -0.4935, -0.6408],\n",
       "         [-0.8010,  0.3093, -0.3793],\n",
       "         ...,\n",
       "         [ 0.7251, -0.4246, -0.3149],\n",
       "         [ 0.3694,  0.1718, -0.6035],\n",
       "         [-1.5826,  0.7855,  0.1098]]),\n",
       " tensor([[-0.1984, -0.1537, -0.1504],\n",
       "         [-0.3996, -0.4935, -0.6408],\n",
       "         [-0.8010,  0.3093, -0.3793],\n",
       "         ...,\n",
       "         [ 0.7251, -0.4246, -0.3149],\n",
       "         [ 0.3694,  0.1718, -0.6035],\n",
       "         [-1.5826,  0.7855,  0.1098]]))"
      ]
     },
     "execution_count": 40,
     "metadata": {},
     "output_type": "execute_result"
    }
   ],
   "source": [
    "mesh_m[2],processed_mesh[4]"
   ]
  },
  {
   "cell_type": "code",
   "execution_count": 41,
   "metadata": {},
   "outputs": [
    {
     "data": {
      "text/plain": [
       "(tensor([-5.4112e-01, -6.7420e-01,  3.8781e-01,  5.6288e-01,  6.2125e-01,\n",
       "          9.4689e-01, -7.1419e-01, -4.6756e-01,  1.0537e+00, -4.5413e-02,\n",
       "         -2.0340e+00,  3.1156e-01, -2.5357e-01, -1.4817e+00, -1.6746e-01,\n",
       "         -1.4350e+00,  4.1970e-01, -4.8334e-01, -1.1696e+00, -6.5862e-01,\n",
       "          8.1335e-01, -1.0937e-01, -1.3892e+00, -5.6531e-01,  4.5582e-01,\n",
       "          1.4296e+00,  7.7453e-02,  2.1371e+00,  1.3271e+00,  7.4384e-01,\n",
       "         -4.9746e-01, -2.3690e+00, -1.7474e+00,  7.7738e-01,  3.8492e-01,\n",
       "         -1.1240e-01,  7.2116e-01, -1.3833e+00, -5.1643e-01,  2.1659e+00,\n",
       "          1.5182e+00, -7.0928e-01,  9.0592e-02, -1.1309e-03, -2.9468e-01,\n",
       "          6.2205e-01,  4.5330e-02,  1.6739e+00,  1.3498e-01,  7.8602e-03,\n",
       "          1.5684e+00, -2.6570e+00,  3.9665e-01,  2.0873e-01,  3.1909e-01,\n",
       "         -3.5836e-01, -3.2203e-01,  5.2514e-01, -2.8596e-01,  5.2141e-01,\n",
       "          2.8138e-01,  9.6294e-01, -1.0071e-01, -1.3914e+00,  2.4342e+00,\n",
       "          3.0020e-02,  1.3779e-01, -1.3536e-01,  1.4359e+00,  1.1623e+00,\n",
       "         -5.9573e-02,  3.3820e-02]),\n",
       " tensor([-5.4112e-01, -6.7420e-01,  3.8781e-01,  5.6288e-01,  6.2125e-01,\n",
       "          9.4689e-01, -7.1419e-01, -4.6756e-01,  1.0537e+00, -4.5413e-02,\n",
       "         -2.0340e+00,  3.1156e-01, -2.5357e-01, -1.4817e+00, -1.6746e-01,\n",
       "         -1.4350e+00,  4.1970e-01, -4.8334e-01, -1.1696e+00, -6.5862e-01,\n",
       "          8.1335e-01, -1.0937e-01, -1.3892e+00, -5.6531e-01,  4.5582e-01,\n",
       "          1.4296e+00,  7.7453e-02,  2.1371e+00,  1.3271e+00,  7.4384e-01,\n",
       "         -4.9746e-01, -2.3690e+00, -1.7474e+00,  7.7738e-01,  3.8492e-01,\n",
       "         -1.1240e-01,  7.2116e-01, -1.3833e+00, -5.1643e-01,  2.1659e+00,\n",
       "          1.5182e+00, -7.0928e-01,  9.0592e-02, -1.1309e-03, -2.9468e-01,\n",
       "          6.2205e-01,  4.5330e-02,  1.6739e+00,  1.3498e-01,  7.8602e-03,\n",
       "          1.5684e+00, -2.6570e+00,  3.9665e-01,  2.0873e-01,  3.1909e-01,\n",
       "         -3.5836e-01, -3.2203e-01,  5.2514e-01, -2.8596e-01,  5.2141e-01,\n",
       "          2.8138e-01,  9.6294e-01, -1.0071e-01, -1.3914e+00,  2.4342e+00,\n",
       "          3.0020e-02,  1.3779e-01, -1.3536e-01,  1.4359e+00,  1.1623e+00,\n",
       "         -5.9573e-02,  3.3820e-02]))"
      ]
     },
     "execution_count": 41,
     "metadata": {},
     "output_type": "execute_result"
    }
   ],
   "source": [
    "joints_f[0],processed_joints[0]"
   ]
  },
  {
   "cell_type": "code",
   "execution_count": 20,
   "metadata": {},
   "outputs": [],
   "source": [
    "import torch\n",
    "\n",
    "def gender_split_process(x,gender):\n",
    "    '''\n",
    "    x: 输入的待处理的tensor\n",
    "    gender: tensor中元素对应的gender\n",
    "    '''\n",
    "    # 根据gender的取值将x分成x_f和x_m\n",
    "    x_f = x[gender.squeeze() == 0]  # 选择gender为0的行作为女性数据\n",
    "    x_m = x[gender.squeeze() == 1]  # 选择gender为1的行作为男性数据\n",
    "\n",
    "    # 分别对x_f和x_m进行处理\n",
    "    # 这里可以添加任何你需要的处理操作\n",
    "    x_f = x_f.unsqueeze(0)\n",
    "    x_m = x_m.unsqueeze(-1)\n",
    "\n",
    "\n",
    "    # 重新排列x_f和x_m以匹配原始顺序\n",
    "    processed_x = torch.empty(x.size())  # 创建与x相同大小的空张量\n",
    "    processed_x[gender.squeeze() == 0] = x_f  # 将x_f数据放回原始位置\n",
    "    processed_x[gender.squeeze() == 1] = x_m  # 将x_m数据放回原始位置\n",
    "\n",
    "    # 打印处理后的数据\n",
    "    print(\"Processed Data (processed_x):\")\n",
    "    print(processed_x)\n"
   ]
  },
  {
   "cell_type": "code",
   "execution_count": 17,
   "metadata": {},
   "outputs": [],
   "source": [
    "# 假设你有gender和x张量\n",
    "gender = torch.tensor([[0], [1], [0], [1], [1], [0], [0], [1]])  # 0表示女性，1表示男性\n",
    "x = torch.rand(8, 3)  # 输入数据 x，形状为 (batch_size, 85)\n"
   ]
  },
  {
   "cell_type": "code",
   "execution_count": 21,
   "metadata": {},
   "outputs": [
    {
     "ename": "RuntimeError",
     "evalue": "shape mismatch: value tensor of shape [4, 3, 1] cannot be broadcast to indexing result of shape [4, 3]",
     "output_type": "error",
     "traceback": [
      "\u001b[1;31m---------------------------------------------------------------------------\u001b[0m",
      "\u001b[1;31mRuntimeError\u001b[0m                              Traceback (most recent call last)",
      "\u001b[1;32md:\\workspace\\python_ws\\pose-master\\models\\gender_seprate_test.ipynb 单元格 7\u001b[0m line \u001b[0;36m1\n\u001b[1;32m----> <a href='vscode-notebook-cell:/d%3A/workspace/python_ws/pose-master/models/gender_seprate_test.ipynb#X11sZmlsZQ%3D%3D?line=0'>1</a>\u001b[0m gender_split_process(x,gender)\n\u001b[0;32m      <a href='vscode-notebook-cell:/d%3A/workspace/python_ws/pose-master/models/gender_seprate_test.ipynb#X11sZmlsZQ%3D%3D?line=1'>2</a>\u001b[0m gender\n",
      "\u001b[1;32md:\\workspace\\python_ws\\pose-master\\models\\gender_seprate_test.ipynb 单元格 7\u001b[0m line \u001b[0;36m2\n\u001b[0;32m     <a href='vscode-notebook-cell:/d%3A/workspace/python_ws/pose-master/models/gender_seprate_test.ipynb#X11sZmlsZQ%3D%3D?line=18'>19</a>\u001b[0m processed_x \u001b[39m=\u001b[39m torch\u001b[39m.\u001b[39mempty(x\u001b[39m.\u001b[39msize())  \u001b[39m# 创建与x相同大小的空张量\u001b[39;00m\n\u001b[0;32m     <a href='vscode-notebook-cell:/d%3A/workspace/python_ws/pose-master/models/gender_seprate_test.ipynb#X11sZmlsZQ%3D%3D?line=19'>20</a>\u001b[0m processed_x[gender\u001b[39m.\u001b[39msqueeze() \u001b[39m==\u001b[39m \u001b[39m0\u001b[39m] \u001b[39m=\u001b[39m x_f  \u001b[39m# 将x_f数据放回原始位置\u001b[39;00m\n\u001b[1;32m---> <a href='vscode-notebook-cell:/d%3A/workspace/python_ws/pose-master/models/gender_seprate_test.ipynb#X11sZmlsZQ%3D%3D?line=20'>21</a>\u001b[0m processed_x[gender\u001b[39m.\u001b[39;49msqueeze() \u001b[39m==\u001b[39;49m \u001b[39m1\u001b[39;49m] \u001b[39m=\u001b[39m x_m  \u001b[39m# 将x_m数据放回原始位置\u001b[39;00m\n\u001b[0;32m     <a href='vscode-notebook-cell:/d%3A/workspace/python_ws/pose-master/models/gender_seprate_test.ipynb#X11sZmlsZQ%3D%3D?line=22'>23</a>\u001b[0m \u001b[39m# 打印处理后的数据\u001b[39;00m\n\u001b[0;32m     <a href='vscode-notebook-cell:/d%3A/workspace/python_ws/pose-master/models/gender_seprate_test.ipynb#X11sZmlsZQ%3D%3D?line=23'>24</a>\u001b[0m \u001b[39mprint\u001b[39m(\u001b[39m\"\u001b[39m\u001b[39mProcessed Data (processed_x):\u001b[39m\u001b[39m\"\u001b[39m)\n",
      "\u001b[1;31mRuntimeError\u001b[0m: shape mismatch: value tensor of shape [4, 3, 1] cannot be broadcast to indexing result of shape [4, 3]"
     ]
    }
   ],
   "source": [
    "gender_split_process(x,gender)\n",
    "gender"
   ]
  }
 ],
 "metadata": {
  "kernelspec": {
   "display_name": "pt1.8",
   "language": "python",
   "name": "python3"
  },
  "language_info": {
   "codemirror_mode": {
    "name": "ipython",
    "version": 3
   },
   "file_extension": ".py",
   "mimetype": "text/x-python",
   "name": "python",
   "nbconvert_exporter": "python",
   "pygments_lexer": "ipython3",
   "version": "3.8.17"
  }
 },
 "nbformat": 4,
 "nbformat_minor": 2
}
