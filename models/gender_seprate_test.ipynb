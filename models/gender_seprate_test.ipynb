{
 "cells": [
  {
   "cell_type": "code",
   "execution_count": 7,
   "metadata": {},
   "outputs": [
    {
     "name": "stdout",
     "output_type": "stream",
     "text": [
      "tensor([[0],\n",
      "        [1],\n",
      "        [0],\n",
      "        [1],\n",
      "        [1],\n",
      "        [0],\n",
      "        [0],\n",
      "        [1]])\n",
      "tensor([[0.0814, 0.7664, 0.4777],\n",
      "        [0.7717, 0.1156, 0.3411],\n",
      "        [0.0318, 0.1302, 0.7603],\n",
      "        [0.0435, 0.2263, 0.5243],\n",
      "        [0.2197, 0.6377, 0.0478],\n",
      "        [0.7172, 0.7981, 0.2025],\n",
      "        [0.0900, 0.4057, 0.2957],\n",
      "        [0.2947, 0.5221, 0.4062]])\n",
      "tensor([[ True],\n",
      "        [False],\n",
      "        [ True],\n",
      "        [False],\n",
      "        [False],\n",
      "        [ True],\n",
      "        [ True],\n",
      "        [False]])\n",
      "tensor([[False],\n",
      "        [ True],\n",
      "        [False],\n",
      "        [ True],\n",
      "        [ True],\n",
      "        [False],\n",
      "        [False],\n",
      "        [ True]])\n",
      "Female Data (x_f):\n",
      "tensor([[0.0814, 0.7664, 0.4777],\n",
      "        [0.0318, 0.1302, 0.7603],\n",
      "        [0.7172, 0.7981, 0.2025],\n",
      "        [0.0900, 0.4057, 0.2957]])\n",
      "Male Data (x_m):\n",
      "tensor([[0.7717, 0.1156, 0.3411],\n",
      "        [0.0435, 0.2263, 0.5243],\n",
      "        [0.2197, 0.6377, 0.0478],\n",
      "        [0.2947, 0.5221, 0.4062]])\n"
     ]
    }
   ],
   "source": [
    "import torch\n",
    "\n",
    "# 假设你有gender和x张量\n",
    "gender = torch.randint(0,2,(8,1))  # 0表示女性，1表示男性\n",
    "x = torch.rand(8, 3)  # 3个样本，每个样本有85个特征\n",
    "print(gender)\n",
    "print(x)\n",
    "# 创建男性和女性的掩码\n",
    "mask_female = gender == 0  # 创建女性的掩码\n",
    "mask_male = gender == 1  # 创建男性的掩码\n",
    "print(mask_female)\n",
    "print(mask_male)\n",
    "# 使用掩码分离x中的数据\n",
    "x_f = x[mask_female.squeeze()]\n",
    "x_m = x[mask_male.squeeze()]\n",
    "\n",
    "# 打印分离后的张量\n",
    "print(\"Female Data (x_f):\")\n",
    "print(x_f)\n",
    "print(\"Male Data (x_m):\")\n",
    "print(x_m)\n"
   ]
  },
  {
   "cell_type": "code",
   "execution_count": 1,
   "metadata": {},
   "outputs": [
    {
     "ename": "IndexError",
     "evalue": "The shape of the mask [3, 1] at index 1 does not match the shape of the indexed tensor [3, 85] at index 1",
     "output_type": "error",
     "traceback": [
      "\u001b[1;31m---------------------------------------------------------------------------\u001b[0m",
      "\u001b[1;31mIndexError\u001b[0m                                Traceback (most recent call last)",
      "\u001b[1;32mUntitled-1.ipynb 单元格 1\u001b[0m line \u001b[0;36m1\n\u001b[0;32m      <a href='vscode-notebook-cell:Untitled-1.ipynb?jupyter-notebook#W0sdW50aXRsZWQ%3D?line=8'>9</a>\u001b[0m x_original \u001b[39m=\u001b[39m torch\u001b[39m.\u001b[39mempty(gender\u001b[39m.\u001b[39msize(\u001b[39m0\u001b[39m), \u001b[39m85\u001b[39m)  \u001b[39m# 创建一个与gender相同大小的空张量\u001b[39;00m\n\u001b[0;32m     <a href='vscode-notebook-cell:Untitled-1.ipynb?jupyter-notebook#W0sdW50aXRsZWQ%3D?line=10'>11</a>\u001b[0m \u001b[39m# 根据gender的取值将x_f和x_m放回原始x张量中\u001b[39;00m\n\u001b[1;32m---> <a href='vscode-notebook-cell:Untitled-1.ipynb?jupyter-notebook#W0sdW50aXRsZWQ%3D?line=11'>12</a>\u001b[0m x_original[gender \u001b[39m==\u001b[39;49m \u001b[39m0\u001b[39;49m] \u001b[39m=\u001b[39m x_f\n\u001b[0;32m     <a href='vscode-notebook-cell:Untitled-1.ipynb?jupyter-notebook#W0sdW50aXRsZWQ%3D?line=12'>13</a>\u001b[0m x_original[gender \u001b[39m==\u001b[39m \u001b[39m1\u001b[39m] \u001b[39m=\u001b[39m x_m\n\u001b[0;32m     <a href='vscode-notebook-cell:Untitled-1.ipynb?jupyter-notebook#W0sdW50aXRsZWQ%3D?line=14'>15</a>\u001b[0m \u001b[39m# 打印原始的x张量\u001b[39;00m\n",
      "\u001b[1;31mIndexError\u001b[0m: The shape of the mask [3, 1] at index 1 does not match the shape of the indexed tensor [3, 85] at index 1"
     ]
    }
   ],
   "source": [
    "import torch\n",
    "\n",
    "# 假设你有gender和x_f、x_m张量\n",
    "gender = torch.tensor([[0], [1], [0]])  # 0表示女性，1表示男性\n",
    "x_f = torch.rand(2, 85)  # 女性数据\n",
    "x_m = torch.rand(1, 85)  # 男性数据\n",
    "\n",
    "# 创建原始的x张量\n",
    "x_original = torch.empty(gender.size(0), 85)  # 创建一个与gender相同大小的空张量\n",
    "\n",
    "# 根据gender的取值将x_f和x_m放回原始x张量中\n",
    "x_original[gender == 0] = x_f\n",
    "x_original[gender == 1] = x_m\n",
    "\n",
    "# 打印原始的x张量\n",
    "print(\"Original Data (x_original):\")\n",
    "print(x_original)\n"
   ]
  }
 ],
 "metadata": {
  "kernelspec": {
   "display_name": "pt1.8",
   "language": "python",
   "name": "python3"
  },
  "language_info": {
   "codemirror_mode": {
    "name": "ipython",
    "version": 3
   },
   "file_extension": ".py",
   "mimetype": "text/x-python",
   "name": "python",
   "nbconvert_exporter": "python",
   "pygments_lexer": "ipython3",
   "version": "3.8.17"
  }
 },
 "nbformat": 4,
 "nbformat_minor": 2
}
